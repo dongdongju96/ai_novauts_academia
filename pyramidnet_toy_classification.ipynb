{
 "cells": [
  {
   "cell_type": "code",
   "execution_count": 1,
   "id": "719045be",
   "metadata": {},
   "outputs": [],
   "source": [
    "import math\n",
    "import numpy as np\n",
    "\n",
    "# torch\n",
    "import torch\n",
    "import torch.nn as nn\n",
    "import torch.optim as optim\n",
    "import torch.utils.model_zoo as model_zoo\n",
    "from torch.utils.data.sampler import SubsetRandomSampler # train valid split\n",
    "from torch.utils.data import Dataset, DataLoader, random_split\n",
    "\n",
    "# torchvision\n",
    "from torchvision import datasets, transforms\n",
    "from torchvision.datasets import ImageFolder\n",
    "\n",
    "# 시각화\n",
    "import plotly.graph_objects as go"
   ]
  },
  {
   "cell_type": "code",
   "execution_count": 2,
   "id": "623d4443",
   "metadata": {},
   "outputs": [],
   "source": [
    "def conv3x3(in_planes, out_planes, stride=1):\n",
    "    \"3x3 convolution with padding\"\n",
    "    return nn.Conv2d(in_planes, out_planes, kernel_size=3, stride=stride,\n",
    "                     padding=1, bias=False)"
   ]
  },
  {
   "cell_type": "code",
   "execution_count": 3,
   "id": "153ae508",
   "metadata": {},
   "outputs": [],
   "source": [
    "class BasicBlock(nn.Module):\n",
    "    outchannel_ratio = 1\n",
    "\n",
    "    def __init__(self, inplanes, planes, stride=1, downsample=None):\n",
    "        super(BasicBlock, self).__init__()\n",
    "        self.bn1 = nn.BatchNorm2d(inplanes)\n",
    "        self.conv1 = conv3x3(inplanes, planes, stride)        \n",
    "        self.bn2 = nn.BatchNorm2d(planes)\n",
    "        self.conv2 = conv3x3(planes, planes)\n",
    "        self.bn3 = nn.BatchNorm2d(planes)\n",
    "        self.relu = nn.ReLU(inplace=True)\n",
    "        self.downsample = downsample\n",
    "        self.stride = stride\n",
    "\n",
    "    def forward(self, x):\n",
    "\n",
    "        out = self.bn1(x)\n",
    "        out = self.conv1(out)        \n",
    "        out = self.bn2(out)\n",
    "        out = self.relu(out)\n",
    "        out = self.conv2(out)\n",
    "        out = self.bn3(out)\n",
    "       \n",
    "        if self.downsample is not None:\n",
    "            shortcut = self.downsample(x)\n",
    "            featuremap_size = shortcut.size()[2:4]\n",
    "        else:\n",
    "            shortcut = x\n",
    "            featuremap_size = out.size()[2:4]\n",
    "\n",
    "        batch_size = out.size()[0]\n",
    "        residual_channel = out.size()[1]\n",
    "        shortcut_channel = shortcut.size()[1]\n",
    "\n",
    "        if residual_channel != shortcut_channel:\n",
    "            padding = torch.autograd.Variable(torch.cuda.FloatTensor(batch_size, residual_channel - shortcut_channel, featuremap_size[0], featuremap_size[1]).fill_(0)) \n",
    "            out += torch.cat((shortcut, padding), 1)\n",
    "        else:\n",
    "            out += shortcut \n",
    "\n",
    "        return out"
   ]
  },
  {
   "cell_type": "code",
   "execution_count": 4,
   "id": "e41baec1",
   "metadata": {},
   "outputs": [],
   "source": [
    "class PyramidBlock(nn.Module):\n",
    "    def __init__(self, in_channels, out_channels, stride):\n",
    "        super(PyramidBlock, self).__init__()\n",
    "        # 정의하려는 PyramidBlock의 내용을 구현\n",
    "        # Convolutional 레이어, BatchNorm, ReLU 등을 포함\n",
    "        self.conv1 = nn.Conv2d(in_channels, out_channels, kernel_size=3, stride=stride, padding=1)\n",
    "        self.bn1 = nn.BatchNorm2d(out_channels)\n",
    "        self.relu = nn.ReLU()\n",
    "    \n",
    "    def forward(self, x):\n",
    "        out = self.conv1(x)\n",
    "        out = self.bn1(out)\n",
    "        out = self.relu(out)\n",
    "        return out"
   ]
  },
  {
   "cell_type": "code",
   "execution_count": 5,
   "id": "90952c78",
   "metadata": {},
   "outputs": [],
   "source": [
    "class PyramidNet(nn.Module):\n",
    "    def __init__(self, num_classes, depth, alpha):\n",
    "        super(PyramidNet, self).__init__()\n",
    "        \n",
    "        n = int((depth - 2) / 9)\n",
    "        \n",
    "        block = BasicBlock\n",
    "        \n",
    "        self.addrate = alpha / (3*n*1.0)\n",
    "        \n",
    "        n = int((depth - 2) / 6)\n",
    "        \n",
    "        self.inplanes = 16\n",
    "        \n",
    "        self.input_featuremap_dim = self.inplanes\n",
    "        self.conv1 = nn.Conv2d(3, self.input_featuremap_dim, kernel_size=3, stride=1, padding=1, bias=False)\n",
    "        self.bn1 = nn.BatchNorm2d(self.input_featuremap_dim)\n",
    "\n",
    "        self.featuremap_dim = self.input_featuremap_dim \n",
    "        self.layer1 = self.pyramidal_make_layer(block, n)\n",
    "        self.layer2 = self.pyramidal_make_layer(block, n, stride=2)\n",
    "        self.layer3 = self.pyramidal_make_layer(block, n, stride=2)\n",
    "\n",
    "        self.final_featuremap_dim = self.input_featuremap_dim\n",
    "        self.bn_final= nn.BatchNorm2d(self.final_featuremap_dim)\n",
    "        self.relu_final = nn.ReLU(inplace=True)\n",
    "        self.avgpool = nn.AdaptiveAvgPool2d(1)\n",
    "        self.fc = nn.Linear(self.final_featuremap_dim, num_classes)\n",
    "        # PyramidNet의 구조를 구현\n",
    "        # PyramidBlock을 여러 층으로 쌓음\n",
    "        \n",
    "    def forward(self, x):\n",
    "        # PyramidNet의 forward 연산을 구현\n",
    "        # PyramidBlock들을 연결\n",
    "        x = self.conv1(x)\n",
    "        x = self.bn1(x)\n",
    "\n",
    "        x = self.layer1(x)\n",
    "        x = self.layer2(x)\n",
    "        x = self.layer3(x)\n",
    "\n",
    "        x = self.bn_final(x)\n",
    "        x = self.relu_final(x)\n",
    "        x = self.avgpool(x)\n",
    "        x = x.view(x.size(0), -1)\n",
    "        x = self.fc(x)\n",
    "        return x\n",
    "    \n",
    "    def pyramidal_make_layer(self, block, block_depth, stride=1):\n",
    "        downsample = None\n",
    "        if stride != 1: # or self.inplanes != int(round(featuremap_dim_1st)) * block.outchannel_ratio:\n",
    "            downsample = nn.AvgPool2d((2,2), stride = (2, 2), ceil_mode=True)\n",
    "\n",
    "        layers = []\n",
    "        self.featuremap_dim = self.featuremap_dim + self.addrate\n",
    "        layers.append(block(self.input_featuremap_dim, int(round(self.featuremap_dim)), stride, downsample))\n",
    "        for i in range(1, block_depth):\n",
    "            temp_featuremap_dim = self.featuremap_dim + self.addrate\n",
    "            layers.append(block(int(round(self.featuremap_dim)) * block.outchannel_ratio, int(round(temp_featuremap_dim)), 1))\n",
    "            self.featuremap_dim  = temp_featuremap_dim\n",
    "        self.input_featuremap_dim = int(round(self.featuremap_dim)) * block.outchannel_ratio\n",
    "\n",
    "        return nn.Sequential(*layers)"
   ]
  },
  {
   "cell_type": "code",
   "execution_count": 6,
   "id": "58c993fb",
   "metadata": {},
   "outputs": [],
   "source": [
    "# imagefloder 생성\n",
    "train_imgfolder = ImageFolder(root='data/train',\n",
    "                      transform=transforms.Compose([\n",
    "                          transforms.ToTensor(),\n",
    "                          transforms.Resize(224),\n",
    "                          transforms.CenterCrop(224)\n",
    "                      ]))\n",
    "\n",
    "test_imgfolder = ImageFolder(root='data/test',\n",
    "                      transform=transforms.Compose([\n",
    "                          transforms.ToTensor(),\n",
    "                          transforms.Resize(224),\n",
    "                          transforms.CenterCrop(224)\n",
    "                      ]))"
   ]
  },
  {
   "cell_type": "code",
   "execution_count": 7,
   "id": "babc34d9",
   "metadata": {},
   "outputs": [],
   "source": [
    "# validation 설정\n",
    "\n",
    "# validation 데이터로 사용할 비율\n",
    "valid_size = 0.2\n",
    "\n",
    "# validation으로 사용할 indices 구하기\n",
    "train_length = len(train_imgfolder)\n",
    "indices = list(range(train_length))\n",
    "np.random.shuffle(indices) # 인덱스 셔플\n",
    "split = int(np.floor(valid_size * train_length))\n",
    "train_idx, valid_idx = indices[split:], indices[:split]"
   ]
  },
  {
   "cell_type": "code",
   "execution_count": 8,
   "id": "36fd3d5c",
   "metadata": {},
   "outputs": [],
   "source": [
    "# trainning, validation batch를 얻기 위한 sampler정의\n",
    "train_sampler = SubsetRandomSampler(train_idx)\n",
    "valid_sampler = SubsetRandomSampler(valid_idx)"
   ]
  },
  {
   "cell_type": "code",
   "execution_count": 9,
   "id": "338d6d64",
   "metadata": {},
   "outputs": [],
   "source": [
    "# get data_loader\n",
    "train_data_loader = DataLoader(dataset=train_imgfolder, \n",
    "                         batch_size=16, \n",
    "                         sampler=train_sampler,\n",
    "                         num_workers=0\n",
    "                        )\n",
    "\n",
    "valid_data_loader = DataLoader(dataset=train_imgfolder, \n",
    "                         batch_size=16, \n",
    "                         sampler=valid_sampler,\n",
    "                         num_workers=0\n",
    "                        )\n",
    "\n",
    "test_data_loader = DataLoader(dataset=test_imgfolder, \n",
    "                         batch_size=1, \n",
    "                         num_workers=0\n",
    "                        )"
   ]
  },
  {
   "cell_type": "code",
   "execution_count": 10,
   "id": "05338901",
   "metadata": {},
   "outputs": [
    {
     "name": "stderr",
     "output_type": "stream",
     "text": [
      "/opt/conda/lib/python3.8/site-packages/torchvision/transforms/functional.py:1603: UserWarning: The default value of the antialias parameter of all the resizing transforms (Resize(), RandomResizedCrop(), etc.) will change from None to True in v0.17, in order to be consistent across the PIL and Tensor backends. To suppress this warning, directly pass antialias=True (recommended, future default), antialias=None (current default, which means False for Tensors and True for PIL), or antialias=False (only works on Tensors - PIL will still use antialiasing). This also applies if you are using the inference transforms from the models weights: update the call to weights.transforms(antialias=True).\n",
      "  warnings.warn(\n"
     ]
    }
   ],
   "source": [
    "# 데이터 개수 구하기\n",
    "train_datanum = 0\n",
    "\n",
    "for train_batch in train_data_loader:\n",
    "    train_datanum += train_batch[0].shape[0]\n",
    "    \n",
    "valid_datanum = 0\n",
    "\n",
    "for valid_batch in valid_data_loader:\n",
    "    valid_datanum += valid_batch[0].shape[0]"
   ]
  },
  {
   "cell_type": "markdown",
   "id": "8bc3f663",
   "metadata": {},
   "source": [
    "# Train"
   ]
  },
  {
   "cell_type": "code",
   "execution_count": 15,
   "id": "5761c16e",
   "metadata": {},
   "outputs": [],
   "source": [
    "# PyramidNet 모델을 생성\n",
    "pyramid_net = PyramidNet(num_classes=5, depth=12, alpha=270)\n",
    "pyramid_net.to('cuda') # 모델을 GPU로 이동\n",
    "\n",
    "# loss function\n",
    "criterion = nn.CrossEntropyLoss()\n",
    "# optimizer\n",
    "optimizer = optim.SGD(pyramid_net.parameters(), lr=1e-2, momentum=0.9, weight_decay=1e-4)\n",
    "\n",
    "# 초기화\n",
    "num_epochs = 50\n",
    "print_steps = 100\n",
    "\n",
    "## loss history\n",
    "train_loss_history = []\n",
    "val_loss_history = []\n",
    "\n",
    "## acc history\n",
    "train_acc_history = []\n",
    "val_acc_history = []"
   ]
  },
  {
   "cell_type": "code",
   "execution_count": 20,
   "id": "1a3feb87",
   "metadata": {
    "scrolled": true
   },
   "outputs": [
    {
     "name": "stdout",
     "output_type": "stream",
     "text": [
      "Epoch [1/50] Loss: 0.9043 Accuracy: 0.6029\n",
      "Epoch [1/50] val_Loss: 0.8441 Accuracy: 0.5672\n",
      "-----------------next-----------------\n",
      "Epoch [2/50] Loss: 0.8580 Accuracy: 0.5846\n",
      "Epoch [2/50] val_Loss: 0.8700 Accuracy: 0.6119\n",
      "-----------------next-----------------\n",
      "Epoch [3/50] Loss: 0.8470 Accuracy: 0.6434\n",
      "Epoch [3/50] val_Loss: 0.7832 Accuracy: 0.7164\n",
      "-----------------next-----------------\n",
      "Epoch [4/50] Loss: 0.7427 Accuracy: 0.6985\n",
      "Epoch [4/50] val_Loss: 0.8638 Accuracy: 0.6716\n",
      "-----------------next-----------------\n",
      "Epoch [5/50] Loss: 0.7424 Accuracy: 0.6949\n",
      "Epoch [5/50] val_Loss: 0.6978 Accuracy: 0.6567\n",
      "-----------------next-----------------\n",
      "Epoch [6/50] Loss: 0.7125 Accuracy: 0.7096\n",
      "Epoch [6/50] val_Loss: 0.6917 Accuracy: 0.7015\n",
      "-----------------next-----------------\n",
      "Epoch [7/50] Loss: 0.6881 Accuracy: 0.7353\n",
      "Epoch [7/50] val_Loss: 0.9627 Accuracy: 0.6567\n",
      "-----------------next-----------------\n",
      "Epoch [8/50] Loss: 0.6733 Accuracy: 0.7721\n",
      "Epoch [8/50] val_Loss: 0.9725 Accuracy: 0.6269\n",
      "-----------------next-----------------\n",
      "Epoch [9/50] Loss: 0.6959 Accuracy: 0.6838\n",
      "Epoch [9/50] val_Loss: 0.7594 Accuracy: 0.7015\n",
      "-----------------next-----------------\n",
      "Epoch [10/50] Loss: 0.6265 Accuracy: 0.7647\n",
      "Epoch [10/50] val_Loss: 1.2868 Accuracy: 0.7612\n",
      "-----------------next-----------------\n",
      "Epoch [11/50] Loss: 0.5864 Accuracy: 0.7757\n",
      "Epoch [11/50] val_Loss: 0.6797 Accuracy: 0.7164\n",
      "-----------------next-----------------\n",
      "Epoch [12/50] Loss: 0.5881 Accuracy: 0.7831\n",
      "Epoch [12/50] val_Loss: 0.7069 Accuracy: 0.7761\n",
      "-----------------next-----------------\n",
      "Epoch [13/50] Loss: 0.5588 Accuracy: 0.7978\n",
      "Epoch [13/50] val_Loss: 0.7238 Accuracy: 0.7164\n",
      "-----------------next-----------------\n",
      "Epoch [14/50] Loss: 0.5621 Accuracy: 0.8235\n",
      "Epoch [14/50] val_Loss: 0.8615 Accuracy: 0.7463\n",
      "-----------------next-----------------\n",
      "Epoch [15/50] Loss: 0.5824 Accuracy: 0.7831\n",
      "Epoch [15/50] val_Loss: 0.6433 Accuracy: 0.7164\n",
      "-----------------next-----------------\n",
      "Epoch [16/50] Loss: 0.6315 Accuracy: 0.7684\n",
      "Epoch [16/50] val_Loss: 0.6476 Accuracy: 0.8209\n",
      "-----------------next-----------------\n",
      "Epoch [17/50] Loss: 0.5459 Accuracy: 0.7794\n",
      "Epoch [17/50] val_Loss: 0.8397 Accuracy: 0.6716\n",
      "-----------------next-----------------\n",
      "Epoch [18/50] Loss: 0.6936 Accuracy: 0.7574\n",
      "Epoch [18/50] val_Loss: 0.6748 Accuracy: 0.7612\n",
      "-----------------next-----------------\n",
      "Epoch [19/50] Loss: 0.5483 Accuracy: 0.8088\n",
      "Epoch [19/50] val_Loss: 0.6292 Accuracy: 0.7910\n",
      "-----------------next-----------------\n",
      "Epoch [20/50] Loss: 0.5564 Accuracy: 0.7831\n",
      "Epoch [20/50] val_Loss: 0.6346 Accuracy: 0.7612\n",
      "-----------------next-----------------\n",
      "Epoch [21/50] Loss: 0.5586 Accuracy: 0.8125\n",
      "Epoch [21/50] val_Loss: 0.7850 Accuracy: 0.7015\n",
      "-----------------next-----------------\n",
      "Epoch [22/50] Loss: 0.5103 Accuracy: 0.7978\n",
      "Epoch [22/50] val_Loss: 1.2959 Accuracy: 0.7910\n",
      "-----------------next-----------------\n",
      "Epoch [23/50] Loss: 0.5699 Accuracy: 0.7757\n",
      "Epoch [23/50] val_Loss: 1.4097 Accuracy: 0.6418\n",
      "-----------------next-----------------\n",
      "Epoch [24/50] Loss: 0.5453 Accuracy: 0.7978\n",
      "Epoch [24/50] val_Loss: 0.7848 Accuracy: 0.7313\n",
      "-----------------next-----------------\n",
      "Epoch [25/50] Loss: 0.4372 Accuracy: 0.8309\n",
      "Epoch [25/50] val_Loss: 0.6742 Accuracy: 0.7015\n",
      "-----------------next-----------------\n",
      "Epoch [26/50] Loss: 0.5009 Accuracy: 0.8235\n",
      "Epoch [26/50] val_Loss: 0.6233 Accuracy: 0.8209\n",
      "-----------------next-----------------\n",
      "Epoch [27/50] Loss: 0.4413 Accuracy: 0.8456\n",
      "Epoch [27/50] val_Loss: 0.5738 Accuracy: 0.8507\n",
      "-----------------next-----------------\n",
      "Epoch [28/50] Loss: 0.3984 Accuracy: 0.8750\n",
      "Epoch [28/50] val_Loss: 0.6908 Accuracy: 0.7313\n",
      "-----------------next-----------------\n",
      "Epoch [29/50] Loss: 0.4129 Accuracy: 0.8309\n",
      "Epoch [29/50] val_Loss: 0.6757 Accuracy: 0.7612\n",
      "-----------------next-----------------\n",
      "Epoch [30/50] Loss: 0.4686 Accuracy: 0.8199\n",
      "Epoch [30/50] val_Loss: 1.1047 Accuracy: 0.6567\n",
      "-----------------next-----------------\n",
      "Epoch [31/50] Loss: 0.4362 Accuracy: 0.8456\n",
      "Epoch [31/50] val_Loss: 1.1939 Accuracy: 0.7612\n",
      "-----------------next-----------------\n",
      "Epoch [32/50] Loss: 0.4552 Accuracy: 0.8382\n",
      "Epoch [32/50] val_Loss: 1.0652 Accuracy: 0.7761\n",
      "-----------------next-----------------\n",
      "Epoch [33/50] Loss: 0.4051 Accuracy: 0.8713\n",
      "Epoch [33/50] val_Loss: 0.7570 Accuracy: 0.7612\n",
      "-----------------next-----------------\n",
      "Epoch [34/50] Loss: 0.4546 Accuracy: 0.8235\n",
      "Epoch [34/50] val_Loss: 0.6434 Accuracy: 0.7313\n",
      "-----------------next-----------------\n",
      "Epoch [35/50] Loss: 0.4227 Accuracy: 0.8309\n",
      "Epoch [35/50] val_Loss: 0.6925 Accuracy: 0.7164\n",
      "-----------------next-----------------\n",
      "Epoch [36/50] Loss: 0.3734 Accuracy: 0.8603\n",
      "Epoch [36/50] val_Loss: 0.8494 Accuracy: 0.7761\n",
      "-----------------next-----------------\n",
      "Epoch [37/50] Loss: 0.3862 Accuracy: 0.8529\n",
      "Epoch [37/50] val_Loss: 1.1217 Accuracy: 0.8060\n",
      "-----------------next-----------------\n",
      "Epoch [38/50] Loss: 0.3709 Accuracy: 0.8603\n",
      "Epoch [38/50] val_Loss: 0.6410 Accuracy: 0.7463\n",
      "-----------------next-----------------\n",
      "Epoch [39/50] Loss: 0.3758 Accuracy: 0.8640\n",
      "Epoch [39/50] val_Loss: 0.7980 Accuracy: 0.7313\n",
      "-----------------next-----------------\n",
      "Epoch [40/50] Loss: 0.3648 Accuracy: 0.8640\n",
      "Epoch [40/50] val_Loss: 0.7876 Accuracy: 0.8060\n",
      "-----------------next-----------------\n",
      "Epoch [41/50] Loss: 0.3507 Accuracy: 0.8676\n",
      "Epoch [41/50] val_Loss: 0.5886 Accuracy: 0.8209\n",
      "-----------------next-----------------\n",
      "Epoch [42/50] Loss: 0.3867 Accuracy: 0.8529\n",
      "Epoch [42/50] val_Loss: 0.8239 Accuracy: 0.7463\n",
      "-----------------next-----------------\n",
      "Epoch [43/50] Loss: 0.4819 Accuracy: 0.8309\n",
      "Epoch [43/50] val_Loss: 0.6497 Accuracy: 0.7313\n",
      "-----------------next-----------------\n",
      "Epoch [44/50] Loss: 0.4021 Accuracy: 0.8750\n",
      "Epoch [44/50] val_Loss: 0.7392 Accuracy: 0.8060\n",
      "-----------------next-----------------\n",
      "Epoch [45/50] Loss: 0.4596 Accuracy: 0.8382\n",
      "Epoch [45/50] val_Loss: 0.5372 Accuracy: 0.8209\n",
      "-----------------next-----------------\n",
      "Epoch [46/50] Loss: 0.4512 Accuracy: 0.8051\n",
      "Epoch [46/50] val_Loss: 0.5789 Accuracy: 0.8060\n",
      "-----------------next-----------------\n",
      "Epoch [47/50] Loss: 0.4886 Accuracy: 0.8162\n",
      "Epoch [47/50] val_Loss: 1.1302 Accuracy: 0.6567\n",
      "-----------------next-----------------\n",
      "Epoch [48/50] Loss: 0.4109 Accuracy: 0.8529\n",
      "Epoch [48/50] val_Loss: 0.6244 Accuracy: 0.7463\n",
      "-----------------next-----------------\n",
      "Epoch [49/50] Loss: 0.4558 Accuracy: 0.8199\n",
      "Epoch [49/50] val_Loss: 0.7463 Accuracy: 0.7313\n",
      "-----------------next-----------------\n",
      "Epoch [50/50] Loss: 0.4373 Accuracy: 0.8346\n",
      "Epoch [50/50] val_Loss: 1.0589 Accuracy: 0.7313\n",
      "-----------------next-----------------\n"
     ]
    }
   ],
   "source": [
    "# 학습 진행\n",
    "for epoch in range(num_epochs):\n",
    "    \n",
    "    loss_sum = 0\n",
    "    correct = 0\n",
    "    \n",
    "    for train_x, train_y in train_data_loader:\n",
    "        optimizer.zero_grad()\n",
    "        output = pyramid_net(train_x.cuda())\n",
    "        \n",
    "        loss = criterion(output.cpu(), train_y)\n",
    "        \n",
    "        loss.backward()\n",
    "        optimizer.step()\n",
    "\n",
    "        loss_sum += loss.item()\n",
    "        \n",
    "        predicted = torch.max(output, 1)[1]\n",
    "        correct += (train_y == predicted.cpu()).sum()\n",
    "    \n",
    "    \n",
    "    print(f'Epoch [{epoch+1}/{num_epochs}] Loss: {loss_sum/len(train_data_loader):.4f} Accuracy: {correct / train_datanum:.4f}')\n",
    "    \n",
    "    # history 추가\n",
    "    train_loss_history.append(loss_sum/len(train_data_loader))\n",
    "    train_acc_history.append(correct/train_datanum)\n",
    "    \n",
    "    \n",
    "    # validation\n",
    "    val_loss_sum = 0\n",
    "    val_correct = 0\n",
    "    \n",
    "    with torch.no_grad():\n",
    "\n",
    "        for valid_x, valid_y in valid_data_loader:\n",
    "            valid_x = valid_x.to('cuda')\n",
    "\n",
    "            val_output = pyramid_net(valid_x)\n",
    "            val_loss = criterion(val_output.cpu(), valid_y)\n",
    "            val_loss_sum += val_loss.item()\n",
    "            \n",
    "            val_predicted = torch.max(val_output, 1)[1]\n",
    "            val_correct += (valid_y == val_predicted.cpu()).sum()\n",
    "\n",
    "        print(f'Epoch [{epoch+1}/{num_epochs}] val_Loss: {val_loss_sum/len(valid_data_loader):.4f} Accuracy: {val_correct / valid_datanum:.4f}')\n",
    "        \n",
    "        # history 추가\n",
    "        val_loss_history.append(val_loss_sum/len(valid_data_loader))\n",
    "        val_acc_history.append(val_correct/valid_datanum)\n",
    "        \n",
    "    print('-----------------next-----------------')"
   ]
  },
  {
   "cell_type": "markdown",
   "id": "90ffd650",
   "metadata": {},
   "source": [
    "## 시각화"
   ]
  },
  {
   "cell_type": "code",
   "execution_count": 21,
   "id": "4b1b85a3",
   "metadata": {},
   "outputs": [
    {
     "data": {
      "application/vnd.plotly.v1+json": {
       "config": {
        "plotlyServerURL": "https://plot.ly"
       },
       "data": [
        {
         "name": "Train_loss",
         "type": "scatter",
         "x": [
          0,
          1,
          2,
          3,
          4,
          5,
          6,
          7,
          8,
          9,
          10,
          11,
          12,
          13,
          14,
          15,
          16,
          17,
          18,
          19,
          20,
          21,
          22,
          23,
          24,
          25,
          26,
          27,
          28,
          29,
          30,
          31,
          32,
          33,
          34,
          35,
          36,
          37,
          38,
          39,
          40,
          41,
          42,
          43,
          44,
          45,
          46,
          47,
          48,
          49
         ],
         "y": [
          1.2143074133816887,
          0.9708039865774267,
          0.9042881096110624,
          0.8580430605832268,
          0.8469781244502348,
          0.7426641671096578,
          0.742355721838334,
          0.7124522363438326,
          0.6880622997003443,
          0.6733214416924644,
          0.6958886910887325,
          0.6265090142979342,
          0.5863527287455166,
          0.5880584997289321,
          0.5587660687811234,
          0.5621350048219457,
          0.5824081240331426,
          0.6314741644789191,
          0.5458507993642021,
          0.6935619860887527,
          0.5482526947470272,
          0.5563880336635253,
          0.558563157916069,
          0.5102923477397245,
          0.5699222824152779,
          0.5452906914493617,
          0.4371880573384902,
          0.500932811814196,
          0.4412798443261315,
          0.3984356610214009,
          0.41286854533588185,
          0.46863225891309623,
          0.4362483550520504,
          0.4552261364810607,
          0.4050834652255563,
          0.45455610138528485,
          0.42266689021797743,
          0.37338363072451425,
          0.3862483738099827,
          0.37092426682219787,
          0.375761512447806,
          0.3648275513859356,
          0.3506583781803356,
          0.3867087925181669,
          0.4818507669603123,
          0.40214988326325135,
          0.45959533312741446,
          0.4512004238717696,
          0.4886343987549053,
          0.41088374353506985,
          0.4558178773697685,
          0.4373345602961147
         ]
        },
        {
         "name": "Val_loss",
         "type": "scatter",
         "x": [
          0,
          1,
          2,
          3,
          4,
          5,
          6,
          7,
          8,
          9,
          10,
          11,
          12,
          13,
          14,
          15,
          16,
          17,
          18,
          19,
          20,
          21,
          22,
          23,
          24,
          25,
          26,
          27,
          28,
          29,
          30,
          31,
          32,
          33,
          34,
          35,
          36,
          37,
          38,
          39,
          40,
          41,
          42,
          43,
          44,
          45,
          46,
          47,
          48,
          49
         ],
         "y": [
          0.8441188931465149,
          0.8700182199478149,
          0.7832278430461883,
          0.8637925565242768,
          0.6977503299713135,
          0.6917470216751098,
          0.9626719355583191,
          0.9724847912788391,
          0.7594460785388947,
          1.2867865025997163,
          0.6796687126159668,
          0.7068807721138001,
          0.7237929761409759,
          0.8614948093891144,
          0.6433109760284423,
          0.647618156671524,
          0.8397216916084289,
          0.6747500181198121,
          0.6292363464832306,
          0.6345651403069497,
          0.7849586367607116,
          1.295940136909485,
          1.409739375114441,
          0.7847674787044525,
          0.6742059469223023,
          0.6233348309993744,
          0.5738499104976654,
          0.6907882571220398,
          0.6757490634918213,
          1.1046857357025146,
          1.1939349591732025,
          1.0652176201343537,
          0.7569611966609955,
          0.6434057474136352,
          0.6925285995006562,
          0.8493602275848389,
          1.1216765522956849,
          0.6410262227058411,
          0.7979737341403961,
          0.7876012682914734,
          0.5885667443275452,
          0.8239353775978089,
          0.6496893048286438,
          0.7392138600349426,
          0.5371734440326691,
          0.5789385914802552,
          1.1301822781562805,
          0.624410280585289,
          0.7463229775428772,
          1.0588965237140655
         ]
        }
       ],
       "layout": {
        "template": {
         "data": {
          "bar": [
           {
            "error_x": {
             "color": "#2a3f5f"
            },
            "error_y": {
             "color": "#2a3f5f"
            },
            "marker": {
             "line": {
              "color": "#E5ECF6",
              "width": 0.5
             },
             "pattern": {
              "fillmode": "overlay",
              "size": 10,
              "solidity": 0.2
             }
            },
            "type": "bar"
           }
          ],
          "barpolar": [
           {
            "marker": {
             "line": {
              "color": "#E5ECF6",
              "width": 0.5
             },
             "pattern": {
              "fillmode": "overlay",
              "size": 10,
              "solidity": 0.2
             }
            },
            "type": "barpolar"
           }
          ],
          "carpet": [
           {
            "aaxis": {
             "endlinecolor": "#2a3f5f",
             "gridcolor": "white",
             "linecolor": "white",
             "minorgridcolor": "white",
             "startlinecolor": "#2a3f5f"
            },
            "baxis": {
             "endlinecolor": "#2a3f5f",
             "gridcolor": "white",
             "linecolor": "white",
             "minorgridcolor": "white",
             "startlinecolor": "#2a3f5f"
            },
            "type": "carpet"
           }
          ],
          "choropleth": [
           {
            "colorbar": {
             "outlinewidth": 0,
             "ticks": ""
            },
            "type": "choropleth"
           }
          ],
          "contour": [
           {
            "colorbar": {
             "outlinewidth": 0,
             "ticks": ""
            },
            "colorscale": [
             [
              0,
              "#0d0887"
             ],
             [
              0.1111111111111111,
              "#46039f"
             ],
             [
              0.2222222222222222,
              "#7201a8"
             ],
             [
              0.3333333333333333,
              "#9c179e"
             ],
             [
              0.4444444444444444,
              "#bd3786"
             ],
             [
              0.5555555555555556,
              "#d8576b"
             ],
             [
              0.6666666666666666,
              "#ed7953"
             ],
             [
              0.7777777777777778,
              "#fb9f3a"
             ],
             [
              0.8888888888888888,
              "#fdca26"
             ],
             [
              1,
              "#f0f921"
             ]
            ],
            "type": "contour"
           }
          ],
          "contourcarpet": [
           {
            "colorbar": {
             "outlinewidth": 0,
             "ticks": ""
            },
            "type": "contourcarpet"
           }
          ],
          "heatmap": [
           {
            "colorbar": {
             "outlinewidth": 0,
             "ticks": ""
            },
            "colorscale": [
             [
              0,
              "#0d0887"
             ],
             [
              0.1111111111111111,
              "#46039f"
             ],
             [
              0.2222222222222222,
              "#7201a8"
             ],
             [
              0.3333333333333333,
              "#9c179e"
             ],
             [
              0.4444444444444444,
              "#bd3786"
             ],
             [
              0.5555555555555556,
              "#d8576b"
             ],
             [
              0.6666666666666666,
              "#ed7953"
             ],
             [
              0.7777777777777778,
              "#fb9f3a"
             ],
             [
              0.8888888888888888,
              "#fdca26"
             ],
             [
              1,
              "#f0f921"
             ]
            ],
            "type": "heatmap"
           }
          ],
          "heatmapgl": [
           {
            "colorbar": {
             "outlinewidth": 0,
             "ticks": ""
            },
            "colorscale": [
             [
              0,
              "#0d0887"
             ],
             [
              0.1111111111111111,
              "#46039f"
             ],
             [
              0.2222222222222222,
              "#7201a8"
             ],
             [
              0.3333333333333333,
              "#9c179e"
             ],
             [
              0.4444444444444444,
              "#bd3786"
             ],
             [
              0.5555555555555556,
              "#d8576b"
             ],
             [
              0.6666666666666666,
              "#ed7953"
             ],
             [
              0.7777777777777778,
              "#fb9f3a"
             ],
             [
              0.8888888888888888,
              "#fdca26"
             ],
             [
              1,
              "#f0f921"
             ]
            ],
            "type": "heatmapgl"
           }
          ],
          "histogram": [
           {
            "marker": {
             "pattern": {
              "fillmode": "overlay",
              "size": 10,
              "solidity": 0.2
             }
            },
            "type": "histogram"
           }
          ],
          "histogram2d": [
           {
            "colorbar": {
             "outlinewidth": 0,
             "ticks": ""
            },
            "colorscale": [
             [
              0,
              "#0d0887"
             ],
             [
              0.1111111111111111,
              "#46039f"
             ],
             [
              0.2222222222222222,
              "#7201a8"
             ],
             [
              0.3333333333333333,
              "#9c179e"
             ],
             [
              0.4444444444444444,
              "#bd3786"
             ],
             [
              0.5555555555555556,
              "#d8576b"
             ],
             [
              0.6666666666666666,
              "#ed7953"
             ],
             [
              0.7777777777777778,
              "#fb9f3a"
             ],
             [
              0.8888888888888888,
              "#fdca26"
             ],
             [
              1,
              "#f0f921"
             ]
            ],
            "type": "histogram2d"
           }
          ],
          "histogram2dcontour": [
           {
            "colorbar": {
             "outlinewidth": 0,
             "ticks": ""
            },
            "colorscale": [
             [
              0,
              "#0d0887"
             ],
             [
              0.1111111111111111,
              "#46039f"
             ],
             [
              0.2222222222222222,
              "#7201a8"
             ],
             [
              0.3333333333333333,
              "#9c179e"
             ],
             [
              0.4444444444444444,
              "#bd3786"
             ],
             [
              0.5555555555555556,
              "#d8576b"
             ],
             [
              0.6666666666666666,
              "#ed7953"
             ],
             [
              0.7777777777777778,
              "#fb9f3a"
             ],
             [
              0.8888888888888888,
              "#fdca26"
             ],
             [
              1,
              "#f0f921"
             ]
            ],
            "type": "histogram2dcontour"
           }
          ],
          "mesh3d": [
           {
            "colorbar": {
             "outlinewidth": 0,
             "ticks": ""
            },
            "type": "mesh3d"
           }
          ],
          "parcoords": [
           {
            "line": {
             "colorbar": {
              "outlinewidth": 0,
              "ticks": ""
             }
            },
            "type": "parcoords"
           }
          ],
          "pie": [
           {
            "automargin": true,
            "type": "pie"
           }
          ],
          "scatter": [
           {
            "fillpattern": {
             "fillmode": "overlay",
             "size": 10,
             "solidity": 0.2
            },
            "type": "scatter"
           }
          ],
          "scatter3d": [
           {
            "line": {
             "colorbar": {
              "outlinewidth": 0,
              "ticks": ""
             }
            },
            "marker": {
             "colorbar": {
              "outlinewidth": 0,
              "ticks": ""
             }
            },
            "type": "scatter3d"
           }
          ],
          "scattercarpet": [
           {
            "marker": {
             "colorbar": {
              "outlinewidth": 0,
              "ticks": ""
             }
            },
            "type": "scattercarpet"
           }
          ],
          "scattergeo": [
           {
            "marker": {
             "colorbar": {
              "outlinewidth": 0,
              "ticks": ""
             }
            },
            "type": "scattergeo"
           }
          ],
          "scattergl": [
           {
            "marker": {
             "colorbar": {
              "outlinewidth": 0,
              "ticks": ""
             }
            },
            "type": "scattergl"
           }
          ],
          "scattermapbox": [
           {
            "marker": {
             "colorbar": {
              "outlinewidth": 0,
              "ticks": ""
             }
            },
            "type": "scattermapbox"
           }
          ],
          "scatterpolar": [
           {
            "marker": {
             "colorbar": {
              "outlinewidth": 0,
              "ticks": ""
             }
            },
            "type": "scatterpolar"
           }
          ],
          "scatterpolargl": [
           {
            "marker": {
             "colorbar": {
              "outlinewidth": 0,
              "ticks": ""
             }
            },
            "type": "scatterpolargl"
           }
          ],
          "scatterternary": [
           {
            "marker": {
             "colorbar": {
              "outlinewidth": 0,
              "ticks": ""
             }
            },
            "type": "scatterternary"
           }
          ],
          "surface": [
           {
            "colorbar": {
             "outlinewidth": 0,
             "ticks": ""
            },
            "colorscale": [
             [
              0,
              "#0d0887"
             ],
             [
              0.1111111111111111,
              "#46039f"
             ],
             [
              0.2222222222222222,
              "#7201a8"
             ],
             [
              0.3333333333333333,
              "#9c179e"
             ],
             [
              0.4444444444444444,
              "#bd3786"
             ],
             [
              0.5555555555555556,
              "#d8576b"
             ],
             [
              0.6666666666666666,
              "#ed7953"
             ],
             [
              0.7777777777777778,
              "#fb9f3a"
             ],
             [
              0.8888888888888888,
              "#fdca26"
             ],
             [
              1,
              "#f0f921"
             ]
            ],
            "type": "surface"
           }
          ],
          "table": [
           {
            "cells": {
             "fill": {
              "color": "#EBF0F8"
             },
             "line": {
              "color": "white"
             }
            },
            "header": {
             "fill": {
              "color": "#C8D4E3"
             },
             "line": {
              "color": "white"
             }
            },
            "type": "table"
           }
          ]
         },
         "layout": {
          "annotationdefaults": {
           "arrowcolor": "#2a3f5f",
           "arrowhead": 0,
           "arrowwidth": 1
          },
          "autotypenumbers": "strict",
          "coloraxis": {
           "colorbar": {
            "outlinewidth": 0,
            "ticks": ""
           }
          },
          "colorscale": {
           "diverging": [
            [
             0,
             "#8e0152"
            ],
            [
             0.1,
             "#c51b7d"
            ],
            [
             0.2,
             "#de77ae"
            ],
            [
             0.3,
             "#f1b6da"
            ],
            [
             0.4,
             "#fde0ef"
            ],
            [
             0.5,
             "#f7f7f7"
            ],
            [
             0.6,
             "#e6f5d0"
            ],
            [
             0.7,
             "#b8e186"
            ],
            [
             0.8,
             "#7fbc41"
            ],
            [
             0.9,
             "#4d9221"
            ],
            [
             1,
             "#276419"
            ]
           ],
           "sequential": [
            [
             0,
             "#0d0887"
            ],
            [
             0.1111111111111111,
             "#46039f"
            ],
            [
             0.2222222222222222,
             "#7201a8"
            ],
            [
             0.3333333333333333,
             "#9c179e"
            ],
            [
             0.4444444444444444,
             "#bd3786"
            ],
            [
             0.5555555555555556,
             "#d8576b"
            ],
            [
             0.6666666666666666,
             "#ed7953"
            ],
            [
             0.7777777777777778,
             "#fb9f3a"
            ],
            [
             0.8888888888888888,
             "#fdca26"
            ],
            [
             1,
             "#f0f921"
            ]
           ],
           "sequentialminus": [
            [
             0,
             "#0d0887"
            ],
            [
             0.1111111111111111,
             "#46039f"
            ],
            [
             0.2222222222222222,
             "#7201a8"
            ],
            [
             0.3333333333333333,
             "#9c179e"
            ],
            [
             0.4444444444444444,
             "#bd3786"
            ],
            [
             0.5555555555555556,
             "#d8576b"
            ],
            [
             0.6666666666666666,
             "#ed7953"
            ],
            [
             0.7777777777777778,
             "#fb9f3a"
            ],
            [
             0.8888888888888888,
             "#fdca26"
            ],
            [
             1,
             "#f0f921"
            ]
           ]
          },
          "colorway": [
           "#636efa",
           "#EF553B",
           "#00cc96",
           "#ab63fa",
           "#FFA15A",
           "#19d3f3",
           "#FF6692",
           "#B6E880",
           "#FF97FF",
           "#FECB52"
          ],
          "font": {
           "color": "#2a3f5f"
          },
          "geo": {
           "bgcolor": "white",
           "lakecolor": "white",
           "landcolor": "#E5ECF6",
           "showlakes": true,
           "showland": true,
           "subunitcolor": "white"
          },
          "hoverlabel": {
           "align": "left"
          },
          "hovermode": "closest",
          "mapbox": {
           "style": "light"
          },
          "paper_bgcolor": "white",
          "plot_bgcolor": "#E5ECF6",
          "polar": {
           "angularaxis": {
            "gridcolor": "white",
            "linecolor": "white",
            "ticks": ""
           },
           "bgcolor": "#E5ECF6",
           "radialaxis": {
            "gridcolor": "white",
            "linecolor": "white",
            "ticks": ""
           }
          },
          "scene": {
           "xaxis": {
            "backgroundcolor": "#E5ECF6",
            "gridcolor": "white",
            "gridwidth": 2,
            "linecolor": "white",
            "showbackground": true,
            "ticks": "",
            "zerolinecolor": "white"
           },
           "yaxis": {
            "backgroundcolor": "#E5ECF6",
            "gridcolor": "white",
            "gridwidth": 2,
            "linecolor": "white",
            "showbackground": true,
            "ticks": "",
            "zerolinecolor": "white"
           },
           "zaxis": {
            "backgroundcolor": "#E5ECF6",
            "gridcolor": "white",
            "gridwidth": 2,
            "linecolor": "white",
            "showbackground": true,
            "ticks": "",
            "zerolinecolor": "white"
           }
          },
          "shapedefaults": {
           "line": {
            "color": "#2a3f5f"
           }
          },
          "ternary": {
           "aaxis": {
            "gridcolor": "white",
            "linecolor": "white",
            "ticks": ""
           },
           "baxis": {
            "gridcolor": "white",
            "linecolor": "white",
            "ticks": ""
           },
           "bgcolor": "#E5ECF6",
           "caxis": {
            "gridcolor": "white",
            "linecolor": "white",
            "ticks": ""
           }
          },
          "title": {
           "x": 0.05
          },
          "xaxis": {
           "automargin": true,
           "gridcolor": "white",
           "linecolor": "white",
           "ticks": "",
           "title": {
            "standoff": 15
           },
           "zerolinecolor": "white",
           "zerolinewidth": 2
          },
          "yaxis": {
           "automargin": true,
           "gridcolor": "white",
           "linecolor": "white",
           "ticks": "",
           "title": {
            "standoff": 15
           },
           "zerolinecolor": "white",
           "zerolinewidth": 2
          }
         }
        }
       }
      },
      "text/html": [
       "<div>                            <div id=\"d4f434c0-37a8-4ac5-a451-3b181ab69623\" class=\"plotly-graph-div\" style=\"height:525px; width:100%;\"></div>            <script type=\"text/javascript\">                require([\"plotly\"], function(Plotly) {                    window.PLOTLYENV=window.PLOTLYENV || {};                                    if (document.getElementById(\"d4f434c0-37a8-4ac5-a451-3b181ab69623\")) {                    Plotly.newPlot(                        \"d4f434c0-37a8-4ac5-a451-3b181ab69623\",                        [{\"name\":\"Train_loss\",\"x\":[0,1,2,3,4,5,6,7,8,9,10,11,12,13,14,15,16,17,18,19,20,21,22,23,24,25,26,27,28,29,30,31,32,33,34,35,36,37,38,39,40,41,42,43,44,45,46,47,48,49],\"y\":[1.2143074133816887,0.9708039865774267,0.9042881096110624,0.8580430605832268,0.8469781244502348,0.7426641671096578,0.742355721838334,0.7124522363438326,0.6880622997003443,0.6733214416924644,0.6958886910887325,0.6265090142979342,0.5863527287455166,0.5880584997289321,0.5587660687811234,0.5621350048219457,0.5824081240331426,0.6314741644789191,0.5458507993642021,0.6935619860887527,0.5482526947470272,0.5563880336635253,0.558563157916069,0.5102923477397245,0.5699222824152779,0.5452906914493617,0.4371880573384902,0.500932811814196,0.4412798443261315,0.3984356610214009,0.41286854533588185,0.46863225891309623,0.4362483550520504,0.4552261364810607,0.4050834652255563,0.45455610138528485,0.42266689021797743,0.37338363072451425,0.3862483738099827,0.37092426682219787,0.375761512447806,0.3648275513859356,0.3506583781803356,0.3867087925181669,0.4818507669603123,0.40214988326325135,0.45959533312741446,0.4512004238717696,0.4886343987549053,0.41088374353506985,0.4558178773697685,0.4373345602961147],\"type\":\"scatter\"},{\"name\":\"Val_loss\",\"x\":[0,1,2,3,4,5,6,7,8,9,10,11,12,13,14,15,16,17,18,19,20,21,22,23,24,25,26,27,28,29,30,31,32,33,34,35,36,37,38,39,40,41,42,43,44,45,46,47,48,49],\"y\":[0.8441188931465149,0.8700182199478149,0.7832278430461883,0.8637925565242768,0.6977503299713135,0.6917470216751098,0.9626719355583191,0.9724847912788391,0.7594460785388947,1.2867865025997163,0.6796687126159668,0.7068807721138001,0.7237929761409759,0.8614948093891144,0.6433109760284423,0.647618156671524,0.8397216916084289,0.6747500181198121,0.6292363464832306,0.6345651403069497,0.7849586367607116,1.295940136909485,1.409739375114441,0.7847674787044525,0.6742059469223023,0.6233348309993744,0.5738499104976654,0.6907882571220398,0.6757490634918213,1.1046857357025146,1.1939349591732025,1.0652176201343537,0.7569611966609955,0.6434057474136352,0.6925285995006562,0.8493602275848389,1.1216765522956849,0.6410262227058411,0.7979737341403961,0.7876012682914734,0.5885667443275452,0.8239353775978089,0.6496893048286438,0.7392138600349426,0.5371734440326691,0.5789385914802552,1.1301822781562805,0.624410280585289,0.7463229775428772,1.0588965237140655],\"type\":\"scatter\"}],                        {\"template\":{\"data\":{\"histogram2dcontour\":[{\"type\":\"histogram2dcontour\",\"colorbar\":{\"outlinewidth\":0,\"ticks\":\"\"},\"colorscale\":[[0.0,\"#0d0887\"],[0.1111111111111111,\"#46039f\"],[0.2222222222222222,\"#7201a8\"],[0.3333333333333333,\"#9c179e\"],[0.4444444444444444,\"#bd3786\"],[0.5555555555555556,\"#d8576b\"],[0.6666666666666666,\"#ed7953\"],[0.7777777777777778,\"#fb9f3a\"],[0.8888888888888888,\"#fdca26\"],[1.0,\"#f0f921\"]]}],\"choropleth\":[{\"type\":\"choropleth\",\"colorbar\":{\"outlinewidth\":0,\"ticks\":\"\"}}],\"histogram2d\":[{\"type\":\"histogram2d\",\"colorbar\":{\"outlinewidth\":0,\"ticks\":\"\"},\"colorscale\":[[0.0,\"#0d0887\"],[0.1111111111111111,\"#46039f\"],[0.2222222222222222,\"#7201a8\"],[0.3333333333333333,\"#9c179e\"],[0.4444444444444444,\"#bd3786\"],[0.5555555555555556,\"#d8576b\"],[0.6666666666666666,\"#ed7953\"],[0.7777777777777778,\"#fb9f3a\"],[0.8888888888888888,\"#fdca26\"],[1.0,\"#f0f921\"]]}],\"heatmap\":[{\"type\":\"heatmap\",\"colorbar\":{\"outlinewidth\":0,\"ticks\":\"\"},\"colorscale\":[[0.0,\"#0d0887\"],[0.1111111111111111,\"#46039f\"],[0.2222222222222222,\"#7201a8\"],[0.3333333333333333,\"#9c179e\"],[0.4444444444444444,\"#bd3786\"],[0.5555555555555556,\"#d8576b\"],[0.6666666666666666,\"#ed7953\"],[0.7777777777777778,\"#fb9f3a\"],[0.8888888888888888,\"#fdca26\"],[1.0,\"#f0f921\"]]}],\"heatmapgl\":[{\"type\":\"heatmapgl\",\"colorbar\":{\"outlinewidth\":0,\"ticks\":\"\"},\"colorscale\":[[0.0,\"#0d0887\"],[0.1111111111111111,\"#46039f\"],[0.2222222222222222,\"#7201a8\"],[0.3333333333333333,\"#9c179e\"],[0.4444444444444444,\"#bd3786\"],[0.5555555555555556,\"#d8576b\"],[0.6666666666666666,\"#ed7953\"],[0.7777777777777778,\"#fb9f3a\"],[0.8888888888888888,\"#fdca26\"],[1.0,\"#f0f921\"]]}],\"contourcarpet\":[{\"type\":\"contourcarpet\",\"colorbar\":{\"outlinewidth\":0,\"ticks\":\"\"}}],\"contour\":[{\"type\":\"contour\",\"colorbar\":{\"outlinewidth\":0,\"ticks\":\"\"},\"colorscale\":[[0.0,\"#0d0887\"],[0.1111111111111111,\"#46039f\"],[0.2222222222222222,\"#7201a8\"],[0.3333333333333333,\"#9c179e\"],[0.4444444444444444,\"#bd3786\"],[0.5555555555555556,\"#d8576b\"],[0.6666666666666666,\"#ed7953\"],[0.7777777777777778,\"#fb9f3a\"],[0.8888888888888888,\"#fdca26\"],[1.0,\"#f0f921\"]]}],\"surface\":[{\"type\":\"surface\",\"colorbar\":{\"outlinewidth\":0,\"ticks\":\"\"},\"colorscale\":[[0.0,\"#0d0887\"],[0.1111111111111111,\"#46039f\"],[0.2222222222222222,\"#7201a8\"],[0.3333333333333333,\"#9c179e\"],[0.4444444444444444,\"#bd3786\"],[0.5555555555555556,\"#d8576b\"],[0.6666666666666666,\"#ed7953\"],[0.7777777777777778,\"#fb9f3a\"],[0.8888888888888888,\"#fdca26\"],[1.0,\"#f0f921\"]]}],\"mesh3d\":[{\"type\":\"mesh3d\",\"colorbar\":{\"outlinewidth\":0,\"ticks\":\"\"}}],\"scatter\":[{\"fillpattern\":{\"fillmode\":\"overlay\",\"size\":10,\"solidity\":0.2},\"type\":\"scatter\"}],\"parcoords\":[{\"type\":\"parcoords\",\"line\":{\"colorbar\":{\"outlinewidth\":0,\"ticks\":\"\"}}}],\"scatterpolargl\":[{\"type\":\"scatterpolargl\",\"marker\":{\"colorbar\":{\"outlinewidth\":0,\"ticks\":\"\"}}}],\"bar\":[{\"error_x\":{\"color\":\"#2a3f5f\"},\"error_y\":{\"color\":\"#2a3f5f\"},\"marker\":{\"line\":{\"color\":\"#E5ECF6\",\"width\":0.5},\"pattern\":{\"fillmode\":\"overlay\",\"size\":10,\"solidity\":0.2}},\"type\":\"bar\"}],\"scattergeo\":[{\"type\":\"scattergeo\",\"marker\":{\"colorbar\":{\"outlinewidth\":0,\"ticks\":\"\"}}}],\"scatterpolar\":[{\"type\":\"scatterpolar\",\"marker\":{\"colorbar\":{\"outlinewidth\":0,\"ticks\":\"\"}}}],\"histogram\":[{\"marker\":{\"pattern\":{\"fillmode\":\"overlay\",\"size\":10,\"solidity\":0.2}},\"type\":\"histogram\"}],\"scattergl\":[{\"type\":\"scattergl\",\"marker\":{\"colorbar\":{\"outlinewidth\":0,\"ticks\":\"\"}}}],\"scatter3d\":[{\"type\":\"scatter3d\",\"line\":{\"colorbar\":{\"outlinewidth\":0,\"ticks\":\"\"}},\"marker\":{\"colorbar\":{\"outlinewidth\":0,\"ticks\":\"\"}}}],\"scattermapbox\":[{\"type\":\"scattermapbox\",\"marker\":{\"colorbar\":{\"outlinewidth\":0,\"ticks\":\"\"}}}],\"scatterternary\":[{\"type\":\"scatterternary\",\"marker\":{\"colorbar\":{\"outlinewidth\":0,\"ticks\":\"\"}}}],\"scattercarpet\":[{\"type\":\"scattercarpet\",\"marker\":{\"colorbar\":{\"outlinewidth\":0,\"ticks\":\"\"}}}],\"carpet\":[{\"aaxis\":{\"endlinecolor\":\"#2a3f5f\",\"gridcolor\":\"white\",\"linecolor\":\"white\",\"minorgridcolor\":\"white\",\"startlinecolor\":\"#2a3f5f\"},\"baxis\":{\"endlinecolor\":\"#2a3f5f\",\"gridcolor\":\"white\",\"linecolor\":\"white\",\"minorgridcolor\":\"white\",\"startlinecolor\":\"#2a3f5f\"},\"type\":\"carpet\"}],\"table\":[{\"cells\":{\"fill\":{\"color\":\"#EBF0F8\"},\"line\":{\"color\":\"white\"}},\"header\":{\"fill\":{\"color\":\"#C8D4E3\"},\"line\":{\"color\":\"white\"}},\"type\":\"table\"}],\"barpolar\":[{\"marker\":{\"line\":{\"color\":\"#E5ECF6\",\"width\":0.5},\"pattern\":{\"fillmode\":\"overlay\",\"size\":10,\"solidity\":0.2}},\"type\":\"barpolar\"}],\"pie\":[{\"automargin\":true,\"type\":\"pie\"}]},\"layout\":{\"autotypenumbers\":\"strict\",\"colorway\":[\"#636efa\",\"#EF553B\",\"#00cc96\",\"#ab63fa\",\"#FFA15A\",\"#19d3f3\",\"#FF6692\",\"#B6E880\",\"#FF97FF\",\"#FECB52\"],\"font\":{\"color\":\"#2a3f5f\"},\"hovermode\":\"closest\",\"hoverlabel\":{\"align\":\"left\"},\"paper_bgcolor\":\"white\",\"plot_bgcolor\":\"#E5ECF6\",\"polar\":{\"bgcolor\":\"#E5ECF6\",\"angularaxis\":{\"gridcolor\":\"white\",\"linecolor\":\"white\",\"ticks\":\"\"},\"radialaxis\":{\"gridcolor\":\"white\",\"linecolor\":\"white\",\"ticks\":\"\"}},\"ternary\":{\"bgcolor\":\"#E5ECF6\",\"aaxis\":{\"gridcolor\":\"white\",\"linecolor\":\"white\",\"ticks\":\"\"},\"baxis\":{\"gridcolor\":\"white\",\"linecolor\":\"white\",\"ticks\":\"\"},\"caxis\":{\"gridcolor\":\"white\",\"linecolor\":\"white\",\"ticks\":\"\"}},\"coloraxis\":{\"colorbar\":{\"outlinewidth\":0,\"ticks\":\"\"}},\"colorscale\":{\"sequential\":[[0.0,\"#0d0887\"],[0.1111111111111111,\"#46039f\"],[0.2222222222222222,\"#7201a8\"],[0.3333333333333333,\"#9c179e\"],[0.4444444444444444,\"#bd3786\"],[0.5555555555555556,\"#d8576b\"],[0.6666666666666666,\"#ed7953\"],[0.7777777777777778,\"#fb9f3a\"],[0.8888888888888888,\"#fdca26\"],[1.0,\"#f0f921\"]],\"sequentialminus\":[[0.0,\"#0d0887\"],[0.1111111111111111,\"#46039f\"],[0.2222222222222222,\"#7201a8\"],[0.3333333333333333,\"#9c179e\"],[0.4444444444444444,\"#bd3786\"],[0.5555555555555556,\"#d8576b\"],[0.6666666666666666,\"#ed7953\"],[0.7777777777777778,\"#fb9f3a\"],[0.8888888888888888,\"#fdca26\"],[1.0,\"#f0f921\"]],\"diverging\":[[0,\"#8e0152\"],[0.1,\"#c51b7d\"],[0.2,\"#de77ae\"],[0.3,\"#f1b6da\"],[0.4,\"#fde0ef\"],[0.5,\"#f7f7f7\"],[0.6,\"#e6f5d0\"],[0.7,\"#b8e186\"],[0.8,\"#7fbc41\"],[0.9,\"#4d9221\"],[1,\"#276419\"]]},\"xaxis\":{\"gridcolor\":\"white\",\"linecolor\":\"white\",\"ticks\":\"\",\"title\":{\"standoff\":15},\"zerolinecolor\":\"white\",\"automargin\":true,\"zerolinewidth\":2},\"yaxis\":{\"gridcolor\":\"white\",\"linecolor\":\"white\",\"ticks\":\"\",\"title\":{\"standoff\":15},\"zerolinecolor\":\"white\",\"automargin\":true,\"zerolinewidth\":2},\"scene\":{\"xaxis\":{\"backgroundcolor\":\"#E5ECF6\",\"gridcolor\":\"white\",\"linecolor\":\"white\",\"showbackground\":true,\"ticks\":\"\",\"zerolinecolor\":\"white\",\"gridwidth\":2},\"yaxis\":{\"backgroundcolor\":\"#E5ECF6\",\"gridcolor\":\"white\",\"linecolor\":\"white\",\"showbackground\":true,\"ticks\":\"\",\"zerolinecolor\":\"white\",\"gridwidth\":2},\"zaxis\":{\"backgroundcolor\":\"#E5ECF6\",\"gridcolor\":\"white\",\"linecolor\":\"white\",\"showbackground\":true,\"ticks\":\"\",\"zerolinecolor\":\"white\",\"gridwidth\":2}},\"shapedefaults\":{\"line\":{\"color\":\"#2a3f5f\"}},\"annotationdefaults\":{\"arrowcolor\":\"#2a3f5f\",\"arrowhead\":0,\"arrowwidth\":1},\"geo\":{\"bgcolor\":\"white\",\"landcolor\":\"#E5ECF6\",\"subunitcolor\":\"white\",\"showland\":true,\"showlakes\":true,\"lakecolor\":\"white\"},\"title\":{\"x\":0.05},\"mapbox\":{\"style\":\"light\"}}}},                        {\"responsive\": true}                    ).then(function(){\n",
       "                            \n",
       "var gd = document.getElementById('d4f434c0-37a8-4ac5-a451-3b181ab69623');\n",
       "var x = new MutationObserver(function (mutations, observer) {{\n",
       "        var display = window.getComputedStyle(gd).display;\n",
       "        if (!display || display === 'none') {{\n",
       "            console.log([gd, 'removed!']);\n",
       "            Plotly.purge(gd);\n",
       "            observer.disconnect();\n",
       "        }}\n",
       "}});\n",
       "\n",
       "// Listen for the removal of the full notebook cells\n",
       "var notebookContainer = gd.closest('#notebook-container');\n",
       "if (notebookContainer) {{\n",
       "    x.observe(notebookContainer, {childList: true});\n",
       "}}\n",
       "\n",
       "// Listen for the clearing of the current output cell\n",
       "var outputEl = gd.closest('.output');\n",
       "if (outputEl) {{\n",
       "    x.observe(outputEl, {childList: true});\n",
       "}}\n",
       "\n",
       "                        })                };                });            </script>        </div>"
      ]
     },
     "metadata": {},
     "output_type": "display_data"
    }
   ],
   "source": [
    "loss_x = list(range(len(val_loss_history)))\n",
    "\n",
    "fig = go.Figure()\n",
    "fig.add_trace(go.Scatter(x=loss_x,y=train_loss_history,\n",
    "                         name=\"Train_loss\"))\n",
    "fig.add_trace(go.Scatter(x=loss_x,y=val_loss_history,\n",
    "                         name=\"Val_loss\"))\n",
    "fig.show()"
   ]
  },
  {
   "cell_type": "code",
   "execution_count": 22,
   "id": "b6ac41e3",
   "metadata": {
    "scrolled": true
   },
   "outputs": [
    {
     "data": {
      "application/vnd.plotly.v1+json": {
       "config": {
        "plotlyServerURL": "https://plot.ly"
       },
       "data": [
        {
         "name": "Train_acc",
         "type": "scatter",
         "x": [
          0,
          1,
          2,
          3,
          4,
          5,
          6,
          7,
          8,
          9,
          10,
          11,
          12,
          13,
          14,
          15,
          16,
          17,
          18,
          19,
          20,
          21,
          22,
          23,
          24,
          25,
          26,
          27,
          28,
          29,
          30,
          31,
          32,
          33,
          34,
          35,
          36,
          37,
          38,
          39,
          40,
          41,
          42,
          43,
          44,
          45,
          46,
          47,
          48,
          49
         ],
         "y": [
          0.49264705181121826,
          0.5845588445663452,
          0.6029411554336548,
          0.5845588445663452,
          0.6433823704719543,
          0.6985294222831726,
          0.6948529481887817,
          0.7095588445663452,
          0.7352941036224365,
          0.7720588445663452,
          0.6838235259056091,
          0.7647058963775635,
          0.7757353186607361,
          0.783088207244873,
          0.7977941036224365,
          0.8235294222831726,
          0.783088207244873,
          0.7683823704719543,
          0.779411792755127,
          0.7573529481887817,
          0.8088235259056091,
          0.783088207244873,
          0.8125,
          0.7977941036224365,
          0.7757353186607361,
          0.7977941036224365,
          0.8308823704719543,
          0.8235294222831726,
          0.845588207244873,
          0.875,
          0.8308823704719543,
          0.8198529481887817,
          0.845588207244873,
          0.8382353186607361,
          0.8713235259056091,
          0.8235294222831726,
          0.8308823704719543,
          0.8602941036224365,
          0.8529411554336548,
          0.8602941036224365,
          0.8639705777168274,
          0.8639705777168274,
          0.8676470518112183,
          0.8529411554336548,
          0.8308823704719543,
          0.875,
          0.8382353186607361,
          0.8051470518112183,
          0.8161764740943909,
          0.8529411554336548,
          0.8198529481887817,
          0.8345588445663452
         ]
        },
        {
         "name": "Val_acc",
         "type": "scatter",
         "x": [
          0,
          1,
          2,
          3,
          4,
          5,
          6,
          7,
          8,
          9,
          10,
          11,
          12,
          13,
          14,
          15,
          16,
          17,
          18,
          19,
          20,
          21,
          22,
          23,
          24,
          25,
          26,
          27,
          28,
          29,
          30,
          31,
          32,
          33,
          34,
          35,
          36,
          37,
          38,
          39,
          40,
          41,
          42,
          43,
          44,
          45,
          46,
          47,
          48,
          49
         ],
         "y": [
          0.5671641826629639,
          0.611940324306488,
          0.7164179086685181,
          0.6716417670249939,
          0.6567164063453674,
          0.7014925479888916,
          0.6567164063453674,
          0.6268656849861145,
          0.7014925479888916,
          0.7611940503120422,
          0.7164179086685181,
          0.7761194109916687,
          0.7164179086685181,
          0.746268630027771,
          0.7164179086685181,
          0.8208954930305481,
          0.6716417670249939,
          0.7611940503120422,
          0.7910447716712952,
          0.7611940503120422,
          0.7014925479888916,
          0.7910447716712952,
          0.641791045665741,
          0.7313432693481445,
          0.7014925479888916,
          0.8208954930305481,
          0.8507462739944458,
          0.7313432693481445,
          0.7611940503120422,
          0.6567164063453674,
          0.7611940503120422,
          0.7761194109916687,
          0.7611940503120422,
          0.7313432693481445,
          0.7164179086685181,
          0.7761194109916687,
          0.8059701323509216,
          0.746268630027771,
          0.7313432693481445,
          0.8059701323509216,
          0.8208954930305481,
          0.746268630027771,
          0.7313432693481445,
          0.8059701323509216,
          0.8208954930305481,
          0.8059701323509216,
          0.6567164063453674,
          0.746268630027771,
          0.7313432693481445,
          0.7313432693481445
         ]
        }
       ],
       "layout": {
        "template": {
         "data": {
          "bar": [
           {
            "error_x": {
             "color": "#2a3f5f"
            },
            "error_y": {
             "color": "#2a3f5f"
            },
            "marker": {
             "line": {
              "color": "#E5ECF6",
              "width": 0.5
             },
             "pattern": {
              "fillmode": "overlay",
              "size": 10,
              "solidity": 0.2
             }
            },
            "type": "bar"
           }
          ],
          "barpolar": [
           {
            "marker": {
             "line": {
              "color": "#E5ECF6",
              "width": 0.5
             },
             "pattern": {
              "fillmode": "overlay",
              "size": 10,
              "solidity": 0.2
             }
            },
            "type": "barpolar"
           }
          ],
          "carpet": [
           {
            "aaxis": {
             "endlinecolor": "#2a3f5f",
             "gridcolor": "white",
             "linecolor": "white",
             "minorgridcolor": "white",
             "startlinecolor": "#2a3f5f"
            },
            "baxis": {
             "endlinecolor": "#2a3f5f",
             "gridcolor": "white",
             "linecolor": "white",
             "minorgridcolor": "white",
             "startlinecolor": "#2a3f5f"
            },
            "type": "carpet"
           }
          ],
          "choropleth": [
           {
            "colorbar": {
             "outlinewidth": 0,
             "ticks": ""
            },
            "type": "choropleth"
           }
          ],
          "contour": [
           {
            "colorbar": {
             "outlinewidth": 0,
             "ticks": ""
            },
            "colorscale": [
             [
              0,
              "#0d0887"
             ],
             [
              0.1111111111111111,
              "#46039f"
             ],
             [
              0.2222222222222222,
              "#7201a8"
             ],
             [
              0.3333333333333333,
              "#9c179e"
             ],
             [
              0.4444444444444444,
              "#bd3786"
             ],
             [
              0.5555555555555556,
              "#d8576b"
             ],
             [
              0.6666666666666666,
              "#ed7953"
             ],
             [
              0.7777777777777778,
              "#fb9f3a"
             ],
             [
              0.8888888888888888,
              "#fdca26"
             ],
             [
              1,
              "#f0f921"
             ]
            ],
            "type": "contour"
           }
          ],
          "contourcarpet": [
           {
            "colorbar": {
             "outlinewidth": 0,
             "ticks": ""
            },
            "type": "contourcarpet"
           }
          ],
          "heatmap": [
           {
            "colorbar": {
             "outlinewidth": 0,
             "ticks": ""
            },
            "colorscale": [
             [
              0,
              "#0d0887"
             ],
             [
              0.1111111111111111,
              "#46039f"
             ],
             [
              0.2222222222222222,
              "#7201a8"
             ],
             [
              0.3333333333333333,
              "#9c179e"
             ],
             [
              0.4444444444444444,
              "#bd3786"
             ],
             [
              0.5555555555555556,
              "#d8576b"
             ],
             [
              0.6666666666666666,
              "#ed7953"
             ],
             [
              0.7777777777777778,
              "#fb9f3a"
             ],
             [
              0.8888888888888888,
              "#fdca26"
             ],
             [
              1,
              "#f0f921"
             ]
            ],
            "type": "heatmap"
           }
          ],
          "heatmapgl": [
           {
            "colorbar": {
             "outlinewidth": 0,
             "ticks": ""
            },
            "colorscale": [
             [
              0,
              "#0d0887"
             ],
             [
              0.1111111111111111,
              "#46039f"
             ],
             [
              0.2222222222222222,
              "#7201a8"
             ],
             [
              0.3333333333333333,
              "#9c179e"
             ],
             [
              0.4444444444444444,
              "#bd3786"
             ],
             [
              0.5555555555555556,
              "#d8576b"
             ],
             [
              0.6666666666666666,
              "#ed7953"
             ],
             [
              0.7777777777777778,
              "#fb9f3a"
             ],
             [
              0.8888888888888888,
              "#fdca26"
             ],
             [
              1,
              "#f0f921"
             ]
            ],
            "type": "heatmapgl"
           }
          ],
          "histogram": [
           {
            "marker": {
             "pattern": {
              "fillmode": "overlay",
              "size": 10,
              "solidity": 0.2
             }
            },
            "type": "histogram"
           }
          ],
          "histogram2d": [
           {
            "colorbar": {
             "outlinewidth": 0,
             "ticks": ""
            },
            "colorscale": [
             [
              0,
              "#0d0887"
             ],
             [
              0.1111111111111111,
              "#46039f"
             ],
             [
              0.2222222222222222,
              "#7201a8"
             ],
             [
              0.3333333333333333,
              "#9c179e"
             ],
             [
              0.4444444444444444,
              "#bd3786"
             ],
             [
              0.5555555555555556,
              "#d8576b"
             ],
             [
              0.6666666666666666,
              "#ed7953"
             ],
             [
              0.7777777777777778,
              "#fb9f3a"
             ],
             [
              0.8888888888888888,
              "#fdca26"
             ],
             [
              1,
              "#f0f921"
             ]
            ],
            "type": "histogram2d"
           }
          ],
          "histogram2dcontour": [
           {
            "colorbar": {
             "outlinewidth": 0,
             "ticks": ""
            },
            "colorscale": [
             [
              0,
              "#0d0887"
             ],
             [
              0.1111111111111111,
              "#46039f"
             ],
             [
              0.2222222222222222,
              "#7201a8"
             ],
             [
              0.3333333333333333,
              "#9c179e"
             ],
             [
              0.4444444444444444,
              "#bd3786"
             ],
             [
              0.5555555555555556,
              "#d8576b"
             ],
             [
              0.6666666666666666,
              "#ed7953"
             ],
             [
              0.7777777777777778,
              "#fb9f3a"
             ],
             [
              0.8888888888888888,
              "#fdca26"
             ],
             [
              1,
              "#f0f921"
             ]
            ],
            "type": "histogram2dcontour"
           }
          ],
          "mesh3d": [
           {
            "colorbar": {
             "outlinewidth": 0,
             "ticks": ""
            },
            "type": "mesh3d"
           }
          ],
          "parcoords": [
           {
            "line": {
             "colorbar": {
              "outlinewidth": 0,
              "ticks": ""
             }
            },
            "type": "parcoords"
           }
          ],
          "pie": [
           {
            "automargin": true,
            "type": "pie"
           }
          ],
          "scatter": [
           {
            "fillpattern": {
             "fillmode": "overlay",
             "size": 10,
             "solidity": 0.2
            },
            "type": "scatter"
           }
          ],
          "scatter3d": [
           {
            "line": {
             "colorbar": {
              "outlinewidth": 0,
              "ticks": ""
             }
            },
            "marker": {
             "colorbar": {
              "outlinewidth": 0,
              "ticks": ""
             }
            },
            "type": "scatter3d"
           }
          ],
          "scattercarpet": [
           {
            "marker": {
             "colorbar": {
              "outlinewidth": 0,
              "ticks": ""
             }
            },
            "type": "scattercarpet"
           }
          ],
          "scattergeo": [
           {
            "marker": {
             "colorbar": {
              "outlinewidth": 0,
              "ticks": ""
             }
            },
            "type": "scattergeo"
           }
          ],
          "scattergl": [
           {
            "marker": {
             "colorbar": {
              "outlinewidth": 0,
              "ticks": ""
             }
            },
            "type": "scattergl"
           }
          ],
          "scattermapbox": [
           {
            "marker": {
             "colorbar": {
              "outlinewidth": 0,
              "ticks": ""
             }
            },
            "type": "scattermapbox"
           }
          ],
          "scatterpolar": [
           {
            "marker": {
             "colorbar": {
              "outlinewidth": 0,
              "ticks": ""
             }
            },
            "type": "scatterpolar"
           }
          ],
          "scatterpolargl": [
           {
            "marker": {
             "colorbar": {
              "outlinewidth": 0,
              "ticks": ""
             }
            },
            "type": "scatterpolargl"
           }
          ],
          "scatterternary": [
           {
            "marker": {
             "colorbar": {
              "outlinewidth": 0,
              "ticks": ""
             }
            },
            "type": "scatterternary"
           }
          ],
          "surface": [
           {
            "colorbar": {
             "outlinewidth": 0,
             "ticks": ""
            },
            "colorscale": [
             [
              0,
              "#0d0887"
             ],
             [
              0.1111111111111111,
              "#46039f"
             ],
             [
              0.2222222222222222,
              "#7201a8"
             ],
             [
              0.3333333333333333,
              "#9c179e"
             ],
             [
              0.4444444444444444,
              "#bd3786"
             ],
             [
              0.5555555555555556,
              "#d8576b"
             ],
             [
              0.6666666666666666,
              "#ed7953"
             ],
             [
              0.7777777777777778,
              "#fb9f3a"
             ],
             [
              0.8888888888888888,
              "#fdca26"
             ],
             [
              1,
              "#f0f921"
             ]
            ],
            "type": "surface"
           }
          ],
          "table": [
           {
            "cells": {
             "fill": {
              "color": "#EBF0F8"
             },
             "line": {
              "color": "white"
             }
            },
            "header": {
             "fill": {
              "color": "#C8D4E3"
             },
             "line": {
              "color": "white"
             }
            },
            "type": "table"
           }
          ]
         },
         "layout": {
          "annotationdefaults": {
           "arrowcolor": "#2a3f5f",
           "arrowhead": 0,
           "arrowwidth": 1
          },
          "autotypenumbers": "strict",
          "coloraxis": {
           "colorbar": {
            "outlinewidth": 0,
            "ticks": ""
           }
          },
          "colorscale": {
           "diverging": [
            [
             0,
             "#8e0152"
            ],
            [
             0.1,
             "#c51b7d"
            ],
            [
             0.2,
             "#de77ae"
            ],
            [
             0.3,
             "#f1b6da"
            ],
            [
             0.4,
             "#fde0ef"
            ],
            [
             0.5,
             "#f7f7f7"
            ],
            [
             0.6,
             "#e6f5d0"
            ],
            [
             0.7,
             "#b8e186"
            ],
            [
             0.8,
             "#7fbc41"
            ],
            [
             0.9,
             "#4d9221"
            ],
            [
             1,
             "#276419"
            ]
           ],
           "sequential": [
            [
             0,
             "#0d0887"
            ],
            [
             0.1111111111111111,
             "#46039f"
            ],
            [
             0.2222222222222222,
             "#7201a8"
            ],
            [
             0.3333333333333333,
             "#9c179e"
            ],
            [
             0.4444444444444444,
             "#bd3786"
            ],
            [
             0.5555555555555556,
             "#d8576b"
            ],
            [
             0.6666666666666666,
             "#ed7953"
            ],
            [
             0.7777777777777778,
             "#fb9f3a"
            ],
            [
             0.8888888888888888,
             "#fdca26"
            ],
            [
             1,
             "#f0f921"
            ]
           ],
           "sequentialminus": [
            [
             0,
             "#0d0887"
            ],
            [
             0.1111111111111111,
             "#46039f"
            ],
            [
             0.2222222222222222,
             "#7201a8"
            ],
            [
             0.3333333333333333,
             "#9c179e"
            ],
            [
             0.4444444444444444,
             "#bd3786"
            ],
            [
             0.5555555555555556,
             "#d8576b"
            ],
            [
             0.6666666666666666,
             "#ed7953"
            ],
            [
             0.7777777777777778,
             "#fb9f3a"
            ],
            [
             0.8888888888888888,
             "#fdca26"
            ],
            [
             1,
             "#f0f921"
            ]
           ]
          },
          "colorway": [
           "#636efa",
           "#EF553B",
           "#00cc96",
           "#ab63fa",
           "#FFA15A",
           "#19d3f3",
           "#FF6692",
           "#B6E880",
           "#FF97FF",
           "#FECB52"
          ],
          "font": {
           "color": "#2a3f5f"
          },
          "geo": {
           "bgcolor": "white",
           "lakecolor": "white",
           "landcolor": "#E5ECF6",
           "showlakes": true,
           "showland": true,
           "subunitcolor": "white"
          },
          "hoverlabel": {
           "align": "left"
          },
          "hovermode": "closest",
          "mapbox": {
           "style": "light"
          },
          "paper_bgcolor": "white",
          "plot_bgcolor": "#E5ECF6",
          "polar": {
           "angularaxis": {
            "gridcolor": "white",
            "linecolor": "white",
            "ticks": ""
           },
           "bgcolor": "#E5ECF6",
           "radialaxis": {
            "gridcolor": "white",
            "linecolor": "white",
            "ticks": ""
           }
          },
          "scene": {
           "xaxis": {
            "backgroundcolor": "#E5ECF6",
            "gridcolor": "white",
            "gridwidth": 2,
            "linecolor": "white",
            "showbackground": true,
            "ticks": "",
            "zerolinecolor": "white"
           },
           "yaxis": {
            "backgroundcolor": "#E5ECF6",
            "gridcolor": "white",
            "gridwidth": 2,
            "linecolor": "white",
            "showbackground": true,
            "ticks": "",
            "zerolinecolor": "white"
           },
           "zaxis": {
            "backgroundcolor": "#E5ECF6",
            "gridcolor": "white",
            "gridwidth": 2,
            "linecolor": "white",
            "showbackground": true,
            "ticks": "",
            "zerolinecolor": "white"
           }
          },
          "shapedefaults": {
           "line": {
            "color": "#2a3f5f"
           }
          },
          "ternary": {
           "aaxis": {
            "gridcolor": "white",
            "linecolor": "white",
            "ticks": ""
           },
           "baxis": {
            "gridcolor": "white",
            "linecolor": "white",
            "ticks": ""
           },
           "bgcolor": "#E5ECF6",
           "caxis": {
            "gridcolor": "white",
            "linecolor": "white",
            "ticks": ""
           }
          },
          "title": {
           "x": 0.05
          },
          "xaxis": {
           "automargin": true,
           "gridcolor": "white",
           "linecolor": "white",
           "ticks": "",
           "title": {
            "standoff": 15
           },
           "zerolinecolor": "white",
           "zerolinewidth": 2
          },
          "yaxis": {
           "automargin": true,
           "gridcolor": "white",
           "linecolor": "white",
           "ticks": "",
           "title": {
            "standoff": 15
           },
           "zerolinecolor": "white",
           "zerolinewidth": 2
          }
         }
        }
       }
      },
      "text/html": [
       "<div>                            <div id=\"6f5bf9bd-703a-43e0-b119-414e293c2faa\" class=\"plotly-graph-div\" style=\"height:525px; width:100%;\"></div>            <script type=\"text/javascript\">                require([\"plotly\"], function(Plotly) {                    window.PLOTLYENV=window.PLOTLYENV || {};                                    if (document.getElementById(\"6f5bf9bd-703a-43e0-b119-414e293c2faa\")) {                    Plotly.newPlot(                        \"6f5bf9bd-703a-43e0-b119-414e293c2faa\",                        [{\"name\":\"Train_acc\",\"x\":[0,1,2,3,4,5,6,7,8,9,10,11,12,13,14,15,16,17,18,19,20,21,22,23,24,25,26,27,28,29,30,31,32,33,34,35,36,37,38,39,40,41,42,43,44,45,46,47,48,49],\"y\":[0.49264705181121826,0.5845588445663452,0.6029411554336548,0.5845588445663452,0.6433823704719543,0.6985294222831726,0.6948529481887817,0.7095588445663452,0.7352941036224365,0.7720588445663452,0.6838235259056091,0.7647058963775635,0.7757353186607361,0.783088207244873,0.7977941036224365,0.8235294222831726,0.783088207244873,0.7683823704719543,0.779411792755127,0.7573529481887817,0.8088235259056091,0.783088207244873,0.8125,0.7977941036224365,0.7757353186607361,0.7977941036224365,0.8308823704719543,0.8235294222831726,0.845588207244873,0.875,0.8308823704719543,0.8198529481887817,0.845588207244873,0.8382353186607361,0.8713235259056091,0.8235294222831726,0.8308823704719543,0.8602941036224365,0.8529411554336548,0.8602941036224365,0.8639705777168274,0.8639705777168274,0.8676470518112183,0.8529411554336548,0.8308823704719543,0.875,0.8382353186607361,0.8051470518112183,0.8161764740943909,0.8529411554336548,0.8198529481887817,0.8345588445663452],\"type\":\"scatter\"},{\"name\":\"Val_acc\",\"x\":[0,1,2,3,4,5,6,7,8,9,10,11,12,13,14,15,16,17,18,19,20,21,22,23,24,25,26,27,28,29,30,31,32,33,34,35,36,37,38,39,40,41,42,43,44,45,46,47,48,49],\"y\":[0.5671641826629639,0.611940324306488,0.7164179086685181,0.6716417670249939,0.6567164063453674,0.7014925479888916,0.6567164063453674,0.6268656849861145,0.7014925479888916,0.7611940503120422,0.7164179086685181,0.7761194109916687,0.7164179086685181,0.746268630027771,0.7164179086685181,0.8208954930305481,0.6716417670249939,0.7611940503120422,0.7910447716712952,0.7611940503120422,0.7014925479888916,0.7910447716712952,0.641791045665741,0.7313432693481445,0.7014925479888916,0.8208954930305481,0.8507462739944458,0.7313432693481445,0.7611940503120422,0.6567164063453674,0.7611940503120422,0.7761194109916687,0.7611940503120422,0.7313432693481445,0.7164179086685181,0.7761194109916687,0.8059701323509216,0.746268630027771,0.7313432693481445,0.8059701323509216,0.8208954930305481,0.746268630027771,0.7313432693481445,0.8059701323509216,0.8208954930305481,0.8059701323509216,0.6567164063453674,0.746268630027771,0.7313432693481445,0.7313432693481445],\"type\":\"scatter\"}],                        {\"template\":{\"data\":{\"histogram2dcontour\":[{\"type\":\"histogram2dcontour\",\"colorbar\":{\"outlinewidth\":0,\"ticks\":\"\"},\"colorscale\":[[0.0,\"#0d0887\"],[0.1111111111111111,\"#46039f\"],[0.2222222222222222,\"#7201a8\"],[0.3333333333333333,\"#9c179e\"],[0.4444444444444444,\"#bd3786\"],[0.5555555555555556,\"#d8576b\"],[0.6666666666666666,\"#ed7953\"],[0.7777777777777778,\"#fb9f3a\"],[0.8888888888888888,\"#fdca26\"],[1.0,\"#f0f921\"]]}],\"choropleth\":[{\"type\":\"choropleth\",\"colorbar\":{\"outlinewidth\":0,\"ticks\":\"\"}}],\"histogram2d\":[{\"type\":\"histogram2d\",\"colorbar\":{\"outlinewidth\":0,\"ticks\":\"\"},\"colorscale\":[[0.0,\"#0d0887\"],[0.1111111111111111,\"#46039f\"],[0.2222222222222222,\"#7201a8\"],[0.3333333333333333,\"#9c179e\"],[0.4444444444444444,\"#bd3786\"],[0.5555555555555556,\"#d8576b\"],[0.6666666666666666,\"#ed7953\"],[0.7777777777777778,\"#fb9f3a\"],[0.8888888888888888,\"#fdca26\"],[1.0,\"#f0f921\"]]}],\"heatmap\":[{\"type\":\"heatmap\",\"colorbar\":{\"outlinewidth\":0,\"ticks\":\"\"},\"colorscale\":[[0.0,\"#0d0887\"],[0.1111111111111111,\"#46039f\"],[0.2222222222222222,\"#7201a8\"],[0.3333333333333333,\"#9c179e\"],[0.4444444444444444,\"#bd3786\"],[0.5555555555555556,\"#d8576b\"],[0.6666666666666666,\"#ed7953\"],[0.7777777777777778,\"#fb9f3a\"],[0.8888888888888888,\"#fdca26\"],[1.0,\"#f0f921\"]]}],\"heatmapgl\":[{\"type\":\"heatmapgl\",\"colorbar\":{\"outlinewidth\":0,\"ticks\":\"\"},\"colorscale\":[[0.0,\"#0d0887\"],[0.1111111111111111,\"#46039f\"],[0.2222222222222222,\"#7201a8\"],[0.3333333333333333,\"#9c179e\"],[0.4444444444444444,\"#bd3786\"],[0.5555555555555556,\"#d8576b\"],[0.6666666666666666,\"#ed7953\"],[0.7777777777777778,\"#fb9f3a\"],[0.8888888888888888,\"#fdca26\"],[1.0,\"#f0f921\"]]}],\"contourcarpet\":[{\"type\":\"contourcarpet\",\"colorbar\":{\"outlinewidth\":0,\"ticks\":\"\"}}],\"contour\":[{\"type\":\"contour\",\"colorbar\":{\"outlinewidth\":0,\"ticks\":\"\"},\"colorscale\":[[0.0,\"#0d0887\"],[0.1111111111111111,\"#46039f\"],[0.2222222222222222,\"#7201a8\"],[0.3333333333333333,\"#9c179e\"],[0.4444444444444444,\"#bd3786\"],[0.5555555555555556,\"#d8576b\"],[0.6666666666666666,\"#ed7953\"],[0.7777777777777778,\"#fb9f3a\"],[0.8888888888888888,\"#fdca26\"],[1.0,\"#f0f921\"]]}],\"surface\":[{\"type\":\"surface\",\"colorbar\":{\"outlinewidth\":0,\"ticks\":\"\"},\"colorscale\":[[0.0,\"#0d0887\"],[0.1111111111111111,\"#46039f\"],[0.2222222222222222,\"#7201a8\"],[0.3333333333333333,\"#9c179e\"],[0.4444444444444444,\"#bd3786\"],[0.5555555555555556,\"#d8576b\"],[0.6666666666666666,\"#ed7953\"],[0.7777777777777778,\"#fb9f3a\"],[0.8888888888888888,\"#fdca26\"],[1.0,\"#f0f921\"]]}],\"mesh3d\":[{\"type\":\"mesh3d\",\"colorbar\":{\"outlinewidth\":0,\"ticks\":\"\"}}],\"scatter\":[{\"fillpattern\":{\"fillmode\":\"overlay\",\"size\":10,\"solidity\":0.2},\"type\":\"scatter\"}],\"parcoords\":[{\"type\":\"parcoords\",\"line\":{\"colorbar\":{\"outlinewidth\":0,\"ticks\":\"\"}}}],\"scatterpolargl\":[{\"type\":\"scatterpolargl\",\"marker\":{\"colorbar\":{\"outlinewidth\":0,\"ticks\":\"\"}}}],\"bar\":[{\"error_x\":{\"color\":\"#2a3f5f\"},\"error_y\":{\"color\":\"#2a3f5f\"},\"marker\":{\"line\":{\"color\":\"#E5ECF6\",\"width\":0.5},\"pattern\":{\"fillmode\":\"overlay\",\"size\":10,\"solidity\":0.2}},\"type\":\"bar\"}],\"scattergeo\":[{\"type\":\"scattergeo\",\"marker\":{\"colorbar\":{\"outlinewidth\":0,\"ticks\":\"\"}}}],\"scatterpolar\":[{\"type\":\"scatterpolar\",\"marker\":{\"colorbar\":{\"outlinewidth\":0,\"ticks\":\"\"}}}],\"histogram\":[{\"marker\":{\"pattern\":{\"fillmode\":\"overlay\",\"size\":10,\"solidity\":0.2}},\"type\":\"histogram\"}],\"scattergl\":[{\"type\":\"scattergl\",\"marker\":{\"colorbar\":{\"outlinewidth\":0,\"ticks\":\"\"}}}],\"scatter3d\":[{\"type\":\"scatter3d\",\"line\":{\"colorbar\":{\"outlinewidth\":0,\"ticks\":\"\"}},\"marker\":{\"colorbar\":{\"outlinewidth\":0,\"ticks\":\"\"}}}],\"scattermapbox\":[{\"type\":\"scattermapbox\",\"marker\":{\"colorbar\":{\"outlinewidth\":0,\"ticks\":\"\"}}}],\"scatterternary\":[{\"type\":\"scatterternary\",\"marker\":{\"colorbar\":{\"outlinewidth\":0,\"ticks\":\"\"}}}],\"scattercarpet\":[{\"type\":\"scattercarpet\",\"marker\":{\"colorbar\":{\"outlinewidth\":0,\"ticks\":\"\"}}}],\"carpet\":[{\"aaxis\":{\"endlinecolor\":\"#2a3f5f\",\"gridcolor\":\"white\",\"linecolor\":\"white\",\"minorgridcolor\":\"white\",\"startlinecolor\":\"#2a3f5f\"},\"baxis\":{\"endlinecolor\":\"#2a3f5f\",\"gridcolor\":\"white\",\"linecolor\":\"white\",\"minorgridcolor\":\"white\",\"startlinecolor\":\"#2a3f5f\"},\"type\":\"carpet\"}],\"table\":[{\"cells\":{\"fill\":{\"color\":\"#EBF0F8\"},\"line\":{\"color\":\"white\"}},\"header\":{\"fill\":{\"color\":\"#C8D4E3\"},\"line\":{\"color\":\"white\"}},\"type\":\"table\"}],\"barpolar\":[{\"marker\":{\"line\":{\"color\":\"#E5ECF6\",\"width\":0.5},\"pattern\":{\"fillmode\":\"overlay\",\"size\":10,\"solidity\":0.2}},\"type\":\"barpolar\"}],\"pie\":[{\"automargin\":true,\"type\":\"pie\"}]},\"layout\":{\"autotypenumbers\":\"strict\",\"colorway\":[\"#636efa\",\"#EF553B\",\"#00cc96\",\"#ab63fa\",\"#FFA15A\",\"#19d3f3\",\"#FF6692\",\"#B6E880\",\"#FF97FF\",\"#FECB52\"],\"font\":{\"color\":\"#2a3f5f\"},\"hovermode\":\"closest\",\"hoverlabel\":{\"align\":\"left\"},\"paper_bgcolor\":\"white\",\"plot_bgcolor\":\"#E5ECF6\",\"polar\":{\"bgcolor\":\"#E5ECF6\",\"angularaxis\":{\"gridcolor\":\"white\",\"linecolor\":\"white\",\"ticks\":\"\"},\"radialaxis\":{\"gridcolor\":\"white\",\"linecolor\":\"white\",\"ticks\":\"\"}},\"ternary\":{\"bgcolor\":\"#E5ECF6\",\"aaxis\":{\"gridcolor\":\"white\",\"linecolor\":\"white\",\"ticks\":\"\"},\"baxis\":{\"gridcolor\":\"white\",\"linecolor\":\"white\",\"ticks\":\"\"},\"caxis\":{\"gridcolor\":\"white\",\"linecolor\":\"white\",\"ticks\":\"\"}},\"coloraxis\":{\"colorbar\":{\"outlinewidth\":0,\"ticks\":\"\"}},\"colorscale\":{\"sequential\":[[0.0,\"#0d0887\"],[0.1111111111111111,\"#46039f\"],[0.2222222222222222,\"#7201a8\"],[0.3333333333333333,\"#9c179e\"],[0.4444444444444444,\"#bd3786\"],[0.5555555555555556,\"#d8576b\"],[0.6666666666666666,\"#ed7953\"],[0.7777777777777778,\"#fb9f3a\"],[0.8888888888888888,\"#fdca26\"],[1.0,\"#f0f921\"]],\"sequentialminus\":[[0.0,\"#0d0887\"],[0.1111111111111111,\"#46039f\"],[0.2222222222222222,\"#7201a8\"],[0.3333333333333333,\"#9c179e\"],[0.4444444444444444,\"#bd3786\"],[0.5555555555555556,\"#d8576b\"],[0.6666666666666666,\"#ed7953\"],[0.7777777777777778,\"#fb9f3a\"],[0.8888888888888888,\"#fdca26\"],[1.0,\"#f0f921\"]],\"diverging\":[[0,\"#8e0152\"],[0.1,\"#c51b7d\"],[0.2,\"#de77ae\"],[0.3,\"#f1b6da\"],[0.4,\"#fde0ef\"],[0.5,\"#f7f7f7\"],[0.6,\"#e6f5d0\"],[0.7,\"#b8e186\"],[0.8,\"#7fbc41\"],[0.9,\"#4d9221\"],[1,\"#276419\"]]},\"xaxis\":{\"gridcolor\":\"white\",\"linecolor\":\"white\",\"ticks\":\"\",\"title\":{\"standoff\":15},\"zerolinecolor\":\"white\",\"automargin\":true,\"zerolinewidth\":2},\"yaxis\":{\"gridcolor\":\"white\",\"linecolor\":\"white\",\"ticks\":\"\",\"title\":{\"standoff\":15},\"zerolinecolor\":\"white\",\"automargin\":true,\"zerolinewidth\":2},\"scene\":{\"xaxis\":{\"backgroundcolor\":\"#E5ECF6\",\"gridcolor\":\"white\",\"linecolor\":\"white\",\"showbackground\":true,\"ticks\":\"\",\"zerolinecolor\":\"white\",\"gridwidth\":2},\"yaxis\":{\"backgroundcolor\":\"#E5ECF6\",\"gridcolor\":\"white\",\"linecolor\":\"white\",\"showbackground\":true,\"ticks\":\"\",\"zerolinecolor\":\"white\",\"gridwidth\":2},\"zaxis\":{\"backgroundcolor\":\"#E5ECF6\",\"gridcolor\":\"white\",\"linecolor\":\"white\",\"showbackground\":true,\"ticks\":\"\",\"zerolinecolor\":\"white\",\"gridwidth\":2}},\"shapedefaults\":{\"line\":{\"color\":\"#2a3f5f\"}},\"annotationdefaults\":{\"arrowcolor\":\"#2a3f5f\",\"arrowhead\":0,\"arrowwidth\":1},\"geo\":{\"bgcolor\":\"white\",\"landcolor\":\"#E5ECF6\",\"subunitcolor\":\"white\",\"showland\":true,\"showlakes\":true,\"lakecolor\":\"white\"},\"title\":{\"x\":0.05},\"mapbox\":{\"style\":\"light\"}}}},                        {\"responsive\": true}                    ).then(function(){\n",
       "                            \n",
       "var gd = document.getElementById('6f5bf9bd-703a-43e0-b119-414e293c2faa');\n",
       "var x = new MutationObserver(function (mutations, observer) {{\n",
       "        var display = window.getComputedStyle(gd).display;\n",
       "        if (!display || display === 'none') {{\n",
       "            console.log([gd, 'removed!']);\n",
       "            Plotly.purge(gd);\n",
       "            observer.disconnect();\n",
       "        }}\n",
       "}});\n",
       "\n",
       "// Listen for the removal of the full notebook cells\n",
       "var notebookContainer = gd.closest('#notebook-container');\n",
       "if (notebookContainer) {{\n",
       "    x.observe(notebookContainer, {childList: true});\n",
       "}}\n",
       "\n",
       "// Listen for the clearing of the current output cell\n",
       "var outputEl = gd.closest('.output');\n",
       "if (outputEl) {{\n",
       "    x.observe(outputEl, {childList: true});\n",
       "}}\n",
       "\n",
       "                        })                };                });            </script>        </div>"
      ]
     },
     "metadata": {},
     "output_type": "display_data"
    }
   ],
   "source": [
    "acc_x = list(range(len(val_acc_history)))\n",
    "\n",
    "fig = go.Figure()\n",
    "fig.add_trace(go.Scatter(x=acc_x,y=train_acc_history,\n",
    "                         name=\"Train_acc\"))\n",
    "fig.add_trace(go.Scatter(x=acc_x,y=val_acc_history,\n",
    "                         name=\"Val_acc\"))\n",
    "fig.show()"
   ]
  },
  {
   "cell_type": "markdown",
   "id": "5fe270d5",
   "metadata": {},
   "source": [
    "## model save"
   ]
  },
  {
   "cell_type": "code",
   "execution_count": null,
   "id": "c2d0dd89",
   "metadata": {},
   "outputs": [],
   "source": [
    "# 모델 저장\n",
    "torch.save(pyramid_net.state_dict(), 'pyramidnet_custom.pth')"
   ]
  },
  {
   "cell_type": "markdown",
   "id": "089019af",
   "metadata": {},
   "source": [
    "# Test"
   ]
  },
  {
   "cell_type": "code",
   "execution_count": null,
   "id": "3f39b5b8",
   "metadata": {},
   "outputs": [],
   "source": [
    "# 모델 불러오기\n",
    "test_model = PyramidNet(num_classes=5, depth=12, alpha=270)\n",
    "test_model.load_state_dict(torch.load('pyramidnet_custom.pth'))"
   ]
  },
  {
   "cell_type": "code",
   "execution_count": null,
   "id": "7ef8f3ab",
   "metadata": {},
   "outputs": [],
   "source": [
    "# 초기화\n",
    "test_loss = 0\n",
    "test_correct = 0\n",
    "test_loss_sum = 0\n",
    "\n",
    "with torch.no_grad():\n",
    "    \n",
    "    for test_x, test_y in test_data_loader:\n",
    "        test_x = test_x.to('cuda')\n",
    "        test_y = test_y.to('cuda')\n",
    "\n",
    "        test_output = test_model.to('cuda')(test_x)\n",
    "        test_loss = criterion(test_output, test_y)\n",
    "        test_loss_sum += test_loss.item()\n",
    "        predicted = torch.max(test_output, 1)[1]\n",
    "        test_correct += (y == predicted).sum()"
   ]
  },
  {
   "cell_type": "code",
   "execution_count": null,
   "id": "2aa0d46e",
   "metadata": {},
   "outputs": [],
   "source": [
    "acc = test_correct / len(test_data_loader)\n",
    "print(f'Test Accuracy: {acc.item()}')"
   ]
  }
 ],
 "metadata": {
  "kernelspec": {
   "display_name": "Python 3 (ipykernel)",
   "language": "python",
   "name": "python3"
  },
  "language_info": {
   "codemirror_mode": {
    "name": "ipython",
    "version": 3
   },
   "file_extension": ".py",
   "mimetype": "text/x-python",
   "name": "python",
   "nbconvert_exporter": "python",
   "pygments_lexer": "ipython3",
   "version": "3.8.10"
  }
 },
 "nbformat": 4,
 "nbformat_minor": 5
}
